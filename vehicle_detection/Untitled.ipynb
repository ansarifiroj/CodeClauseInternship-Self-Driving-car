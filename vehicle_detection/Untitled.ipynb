{
 "cells": [
  {
   "cell_type": "code",
   "execution_count": 2,
   "id": "2b5c0a87",
   "metadata": {},
   "outputs": [],
   "source": [
    "import cv2\n",
    "from tracker import *\n",
    "\n",
    "#create tracker object\n",
    "tracker = EuclideanDistTracker()\n",
    "\n",
    "cap = cv2.VideoCapture(\"out_project_10.mp4\")\n",
    "\n",
    "# Object detection\n",
    "object_detector = cv2.createBackgroundSubtractorMOG2(history=80, varThreshold=65)\n",
    "\n",
    "while True:\n",
    "    ret, frame = cap.read()\n",
    "    height, width, _ = frame.shape\n",
    "    \n",
    "    # Extract regin of interest\n",
    "    roi = frame[400: 700, 700: 1280]\n",
    "    \n",
    "    # object detection\n",
    "    mask = object_detector.apply(roi)\n",
    "    contours, _ = cv2.findContours(mask, cv2.RETR_TREE, cv2.CHAIN_APPROX_SIMPLE)\n",
    "    detection = []\n",
    "    for cnt in contours:\n",
    "        # calculate areas and remove small elements\n",
    "        area = cv2.contourArea(cnt)\n",
    "        if area > 2000:\n",
    "            #cv2.drawContours(roi, [cnt], -1, (0, 255, 0))\n",
    "            x, y, w, h = cv2.boundingRect(cnt)\n",
    "            cv2.rectangle(roi, (x, y), (x+w, y+h), (0, 255, 0), 3)\n",
    "            \n",
    "            detection.append([x, y, w, h])\n",
    "    \n",
    "    #print(detection)\n",
    "    #cv2.imshow(\"roi\", roi)\n",
    "    cv2.imshow(\"Frame\", frame)\n",
    "    #cv2.imshow(\"Mask\", mask)\n",
    "    \n",
    "    key = cv2.waitKey(80)\n",
    "    if key == 27:\n",
    "        break\n",
    "\n",
    "cap.release()\n",
    "cv2.destroyAllWindows()"
   ]
  },
  {
   "cell_type": "code",
   "execution_count": null,
   "id": "0d4b7aca",
   "metadata": {},
   "outputs": [],
   "source": []
  }
 ],
 "metadata": {
  "kernelspec": {
   "display_name": "Python 3 (ipykernel)",
   "language": "python",
   "name": "python3"
  },
  "language_info": {
   "codemirror_mode": {
    "name": "ipython",
    "version": 3
   },
   "file_extension": ".py",
   "mimetype": "text/x-python",
   "name": "python",
   "nbconvert_exporter": "python",
   "pygments_lexer": "ipython3",
   "version": "3.9.7"
  }
 },
 "nbformat": 4,
 "nbformat_minor": 5
}
